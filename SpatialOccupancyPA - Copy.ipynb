{
 "cells": [
  {
   "cell_type": "code",
   "execution_count": 2,
   "id": "fde28711",
   "metadata": {},
   "outputs": [],
   "source": [
    "# %%capture\n",
    "# import os\n",
    "# from IPython.display import Javascript\n",
    "\n",
    "# os.environ['R_HOME'] = 'C:\\Program Files\\R\\R-4.4.2'"
   ]
  },
  {
   "cell_type": "code",
   "execution_count": 3,
   "id": "2f206531-1710-40eb-8a4e-d06091997f02",
   "metadata": {},
   "outputs": [],
   "source": [
    "# !python -m ipykernel install --user --name=ericapp --display-name \"Python3(ericapp)\""
   ]
  },
  {
   "cell_type": "code",
   "execution_count": 4,
   "id": "8fac2cc3-54e3-419b-98c8-6f3fbb02e159",
   "metadata": {},
   "outputs": [],
   "source": [
    "# %load_ext rpy2.ipython\n",
    "# %run -i ./MDT_Functions_copy.py"
   ]
  },
  {
   "cell_type": "code",
   "execution_count": 5,
   "id": "1da3d14f",
   "metadata": {},
   "outputs": [],
   "source": [
    "# 0.01### INPUT DATA\n",
    "# inputSpatial()\n",
    "\n",
    "# # SIMULATE RESPONSE\n",
    "# simulateReponse()\n",
    "\n",
    "# # ## simulate resposne\n",
    "# # Javascript(\"Jupyter.notebook.execute_cells([2])\")"
   ]
  },
  {
   "cell_type": "code",
   "execution_count": 6,
   "id": "c05fdf88-99e3-4be7-8f24-b18113359e1f",
   "metadata": {},
   "outputs": [],
   "source": [
    "# print(saAreaKM)"
   ]
  },
  {
   "cell_type": "code",
   "execution_count": 1,
   "id": "023a0d57-df75-44af-935a-bdede3fe6caa",
   "metadata": {},
   "outputs": [
    {
     "data": {
      "application/vnd.jupyter.widget-view+json": {
       "model_id": "9d8eafabf04d4d6e9149e414fb44741f",
       "version_major": 2,
       "version_minor": 0
      },
      "text/plain": [
       "IntSlider(value=5, description='Bars', max=10, min=1)"
      ]
     },
     "metadata": {},
     "output_type": "display_data"
    },
    {
     "data": {
      "application/vnd.jupyter.widget-view+json": {
       "model_id": "58a391b4279d49c49b50a1436dac5495",
       "version_major": 2,
       "version_minor": 0
      },
      "text/plain": [
       "Output()"
      ]
     },
     "metadata": {},
     "output_type": "display_data"
    },
    {
     "data": {
      "application/vnd.jupyter.widget-view+json": {
       "model_id": "60be4cbd5c8e47a3b145f5d628c2e34a",
       "version_major": 2,
       "version_minor": 0
      },
      "text/plain": [
       "Output()"
      ]
     },
     "metadata": {},
     "output_type": "display_data"
    }
   ],
   "source": [
    "import numpy as np\n",
    "import matplotlib.pyplot as plt\n",
    "import ipywidgets as widgets\n",
    "from IPython.display import display\n",
    "\n",
    "# Create a slider for dynamic values\n",
    "slider = widgets.IntSlider(\n",
    "    min=1, max=10, step=1, value=5, description=\"Bars\"\n",
    ")\n",
    "\n",
    "# Output widget to display the plot\n",
    "output = widgets.Output()\n",
    "value_output = widgets.Output()  # Separate output for printing slider value\n",
    "\n",
    "# Function to update the bar chart\n",
    "def update_bar_chart(n):\n",
    "    with output:\n",
    "        output.clear_output(wait=True)  # Clear previous plot\n",
    "        \n",
    "        x = np.arange(n)  # X-axis values\n",
    "        y = np.random.randint(1, 20, size=n)  # Generate random Y-values\n",
    "        \n",
    "        plt.figure(figsize=(6,4))\n",
    "        plt.bar(x, y, color='blue', alpha=0.7)\n",
    "        plt.xlabel(\"Categories\")\n",
    "        plt.ylabel(\"Values\")\n",
    "        plt.title(f\"Bar Chart with {n} Bars\")\n",
    "        plt.show()\n",
    "\n",
    "# Function to print the slider value dynamically\n",
    "def update_print_value(change):\n",
    "    with value_output:\n",
    "        value_output.clear_output(wait=True)  # Clear previous output\n",
    "        print(f\"Slider Value: {change['new']}\")  # Print new slider value\n",
    "\n",
    "# Observe slider changes and update the printed value\n",
    "slider.observe(update_print_value, names='value')\n",
    "\n",
    "# Link the slider to the bar chart function\n",
    "widgets.interactive_output(update_bar_chart, {'n': slider})\n",
    "\n",
    "# Display widgets\n",
    "display(slider, value_output, output)\n"
   ]
  },
  {
   "cell_type": "code",
   "execution_count": 1,
   "id": "2681ce26-013a-4572-a483-76421e42d592",
   "metadata": {},
   "outputs": [
    {
     "data": {
      "application/vnd.jupyter.widget-view+json": {
       "model_id": "b2cc8058d1134694a02663c3a622fcbb",
       "version_major": 2,
       "version_minor": 0
      },
      "text/plain": [
       "IntSlider(value=5, description='A:', max=10, min=1)"
      ]
     },
     "metadata": {},
     "output_type": "display_data"
    },
    {
     "data": {
      "application/vnd.jupyter.widget-view+json": {
       "model_id": "84329ee1d3784d4cb7b24e6a2a362202",
       "version_major": 2,
       "version_minor": 0
      },
      "text/plain": [
       "IntSlider(value=5, description='B:', max=10, min=1)"
      ]
     },
     "metadata": {},
     "output_type": "display_data"
    },
    {
     "data": {
      "application/vnd.jupyter.widget-view+json": {
       "model_id": "a6eff2b69959490f96acc899a5d07bd3",
       "version_major": 2,
       "version_minor": 0
      },
      "text/plain": [
       "Output()"
      ]
     },
     "metadata": {},
     "output_type": "display_data"
    },
    {
     "data": {
      "application/vnd.jupyter.widget-view+json": {
       "model_id": "2eb26a7254d946aa9942236f32161d1d",
       "version_major": 2,
       "version_minor": 0
      },
      "text/plain": [
       "Output()"
      ]
     },
     "metadata": {},
     "output_type": "display_data"
    }
   ],
   "source": [
    "import numpy as np\n",
    "import matplotlib.pyplot as plt\n",
    "import ipywidgets as widgets\n",
    "from IPython.display import display\n",
    "\n",
    "# Create two integer sliders A and B\n",
    "slider_A = widgets.IntSlider(min=1, max=10, step=1, value=5, description=\"A:\")\n",
    "slider_B = widgets.IntSlider(min=1, max=10, step=1, value=5, description=\"B:\")\n",
    "\n",
    "# Output widgets for displaying values and the bar chart\n",
    "value_output = widgets.Output()\n",
    "plot_output = widgets.Output()\n",
    "\n",
    "# Function to update the bar chart dynamically based on equation 2A + 3B\n",
    "def update_bar_chart(A, B):\n",
    "    with plot_output:\n",
    "        plot_output.clear_output(wait=True)  # Clear previous plot\n",
    "        \n",
    "        result = 2 * A + 3 * B  # Compute equation\n",
    "\n",
    "        # Create bar chart with the computed result\n",
    "        plt.figure(figsize=(6,4))\n",
    "        plt.bar([\"2A + 3B\"], [result], color='blue', alpha=0.7)\n",
    "        plt.ylim(0, 50)  # Keep y-axis consistent\n",
    "        plt.xlabel(\"Expression\")\n",
    "        plt.ylabel(\"Value\")\n",
    "        plt.title(f\"Bar Chart of 2A + 3B (A={A}, B={B})\")\n",
    "        plt.show()\n",
    "\n",
    "# Function to print slider values dynamically\n",
    "def update_values(change):\n",
    "    with value_output:\n",
    "        value_output.clear_output(wait=True)\n",
    "        A, B = slider_A.value, slider_B.value\n",
    "        print(f\"Slider A: {A}, Slider B: {B}, 2A + 3B: {2*A + 3*B}\")\n",
    "    update_bar_chart(A, B)  # Update chart when sliders change\n",
    "\n",
    "# Attach the function to both sliders\n",
    "slider_A.observe(update_values, names='value')\n",
    "slider_B.observe(update_values, names='value')\n",
    "\n",
    "# Display widgets\n",
    "display(slider_A, slider_B, value_output, plot_output)\n",
    "\n",
    "# Initialize chart on first load\n",
    "update_values(None)\n"
   ]
  },
  {
   "cell_type": "code",
   "execution_count": null,
   "id": "72e6ea7c-9588-4642-9491-79de5b7882b6",
   "metadata": {},
   "outputs": [],
   "source": []
  }
 ],
 "metadata": {
  "kernelspec": {
   "display_name": "Python3(ericapp)",
   "language": "python",
   "name": "ericapp"
  },
  "language_info": {
   "codemirror_mode": {
    "name": "ipython",
    "version": 3
   },
   "file_extension": ".py",
   "mimetype": "text/x-python",
   "name": "python",
   "nbconvert_exporter": "python",
   "pygments_lexer": "ipython3",
   "version": "3.13.1"
  }
 },
 "nbformat": 4,
 "nbformat_minor": 5
}
