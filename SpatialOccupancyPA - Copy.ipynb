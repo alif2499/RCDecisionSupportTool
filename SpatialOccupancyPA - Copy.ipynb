{
 "cells": [
  {
   "cell_type": "code",
   "execution_count": 1,
   "id": "fde28711",
   "metadata": {},
   "outputs": [],
   "source": [
    "%%capture\n",
    "import os\n",
    "from IPython.display import Javascript\n",
    "\n",
    "os.environ['R_HOME'] = 'C:\\Program Files\\R\\R-4.4.2'"
   ]
  },
  {
   "cell_type": "code",
   "execution_count": 2,
   "id": "2f206531-1710-40eb-8a4e-d06091997f02",
   "metadata": {},
   "outputs": [],
   "source": [
    "# !python -m ipykernel install --user --name=ericapp --display-name \"Python3(ericapp)\""
   ]
  },
  {
   "cell_type": "code",
   "execution_count": 3,
   "id": "8fac2cc3-54e3-419b-98c8-6f3fbb02e159",
   "metadata": {},
   "outputs": [
    {
     "name": "stderr",
     "output_type": "stream",
     "text": [
      "C:\\Users\\alifr\\anaconda3\\envs\\ericapp\\Lib\\site-packages\\rpy2\\robjects\\packages.py:366: UserWarning: The symbol 'quartz' is not in this R namespace/package.\n",
      "  warnings.warn(\n"
     ]
    }
   ],
   "source": [
    "%load_ext rpy2.ipython\n",
    "%run -i ./MDT_Functions_copy.py"
   ]
  },
  {
   "cell_type": "code",
   "execution_count": 4,
   "id": "1da3d14f",
   "metadata": {},
   "outputs": [
    {
     "name": "stdout",
     "output_type": "stream",
     "text": [
      "D:\\ABMI_Official\\Eric's Code\\RCDecisionSupportTool\n",
      "The study area has (417996.4415538451, 795945.195356781, 1126884.4543278955, 1581144.825542611). \n",
      "It has 76 rows and 91 columns.\n",
      "\n",
      "------------------\n",
      "Finished inputing Use vars: ['elevation', 'water_proximity']\n",
      "\n"
     ]
    },
    {
     "name": "stderr",
     "output_type": "stream",
     "text": [
      "C:\\Users\\alifr\\anaconda3\\envs\\ericapp\\Lib\\site-packages\\osgeo\\gdal.py:311: FutureWarning: Neither gdal.UseExceptions() nor gdal.DontUseExceptions() has been explicitly called. In GDAL 4.0, exceptions will be enabled by default.\n",
      "  warnings.warn(\n"
     ]
    },
    {
     "data": {
      "application/vnd.jupyter.widget-view+json": {
       "model_id": "ac4220054d20441b9f02ec57ba770b73",
       "version_major": 2,
       "version_minor": 0
      },
      "text/plain": [
       "HBox(children=(VBox(children=(FloatSlider(value=0.5, description='trueOcc:', max=1.0, min=0.01), FloatSlider(v…"
      ]
     },
     "metadata": {},
     "output_type": "display_data"
    }
   ],
   "source": [
    "0.01### INPUT DATA\n",
    "inputSpatial()\n",
    "\n",
    "# SIMULATE RESPONSE\n",
    "simulateReponse()\n",
    "\n",
    "# ## simulate resposne\n",
    "# Javascript(\"Jupyter.notebook.execute_cells([2])\")"
   ]
  },
  {
   "cell_type": "code",
   "execution_count": 11,
   "id": "c05fdf88-99e3-4be7-8f24-b18113359e1f",
   "metadata": {},
   "outputs": [],
   "source": [
    "# print(saAreaKM)"
   ]
  },
  {
   "cell_type": "code",
   "execution_count": null,
   "id": "72e6ea7c-9588-4642-9491-79de5b7882b6",
   "metadata": {},
   "outputs": [],
   "source": []
  }
 ],
 "metadata": {
  "kernelspec": {
   "display_name": "Python3(ericapp)",
   "language": "python",
   "name": "ericapp"
  },
  "language_info": {
   "codemirror_mode": {
    "name": "ipython",
    "version": 3
   },
   "file_extension": ".py",
   "mimetype": "text/x-python",
   "name": "python",
   "nbconvert_exporter": "python",
   "pygments_lexer": "ipython3",
   "version": "3.13.1"
  }
 },
 "nbformat": 4,
 "nbformat_minor": 5
}
